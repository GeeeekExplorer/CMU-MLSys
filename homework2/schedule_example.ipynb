{
    "cells": [
        {
            "cell_type": "markdown",
            "metadata": {},
            "source": [
                "# TensorIR Schedule Example\n",
                "\n",
                "This notebook shows an example of using TensorIR schedule primitives\n",
                "to schedule a simple workload so that it can run on CUDA GPU.\n",
                "To prepare, follow the same step in [mlsys_hw2.ipynb](mlsys_hw2.ipynb)\n",
                "to install the PyPI package `mlc-ai`.\n",
                "And also, please note that the schedule we study in this notebook\n",
                "is not optimal (i.e., running the fastest on GPU) for the workload,\n",
                "but a rather decent example that demonstrates the usage of many\n",
                "schedule primitives.\n",
                "\n",
                "<!-- TODO: notebook link -->"
            ]
        },
        {
            "cell_type": "markdown",
            "metadata": {},
            "source": [
                "The workload we study in this notebook is \"summation + broadcast\",\n",
                "where we want to sum up a 1D array and broadcast the summation\n",
                "results to each position.\n",
                "For example, by taking the input `[10, 20, 30]`,\n",
                "the workload outputs `[60, 60, 60]`.\n",
                "\n",
                "Assuming the input array has length 256,\n",
                "this workload can be written as the following in TensorIR:"
            ]
        },
        {
            "cell_type": "code",
            "execution_count": 1,
            "metadata": {},
            "outputs": [],
            "source": [
                "import tvm\n",
                "from tvm import tir\n",
                "from tvm.script import tir as T\n",
                "\n",
                "\n",
                "@T.prim_func\n",
                "def sum_broadcast(\n",
                "    A: T.Buffer((256,), \"float32\"),\n",
                "    B: T.Buffer((256,), \"float32\"),\n",
                ") -> None:\n",
                "    for i, k in T.grid(256, 256):\n",
                "        with T.block(\"sum_broadcast\"):\n",
                "            vi = T.axis.spatial(256, i)\n",
                "            vk = T.axis.reduce(256, k)\n",
                "            with T.init():\n",
                "                B[vi] = T.float32(0)\n",
                "            B[vi] += A[vk]\n",
                "\n",
                "sch = tir.Schedule(sum_broadcast)"
            ]
        },
        {
            "cell_type": "markdown",
            "metadata": {},
            "source": [
                "As shown above, we first initialize the result array `B` to zero via\n",
                "```python\n",
                "with T.init():\n",
                "    B[vi] = T.float32(0)\n",
                "```\n",
                "and then accumulate the values over the array for each position through\n",
                "```python\n",
                "B[vi] += A[vk]\n",
                "```"
            ]
        },
        {
            "cell_type": "markdown",
            "metadata": {},
            "source": [
                "To compute this workload on GPU,\n",
                "we assign each GPU thread to compute one element in `B`.\n",
                "So let's first bind loops to thread axes and block axes on GPU.\n",
                "\n",
                "For demo purpose, we use two threads blocks to compute this workload,\n",
                "where each thread block has 128 threads.\n",
                "This means that we need to bind a loop with length 2 to `blockIdx.x` in GPU,\n",
                "and bind the another loop with length 128 to `threadIdx.x`.\n",
                "\n",
                "In TensorIR schedule, to get the loops ready for thread binding,\n",
                "we can first split the loop `i` into two loops, where the inner loop\n",
                "has length 128 and the outer loop has length 2."
            ]
        },
        {
            "cell_type": "code",
            "execution_count": 2,
            "metadata": {},
            "outputs": [],
            "source": [
                "# Fetch the computation block of \"sum_broadcast\".\n",
                "block = sch.get_block(\"sum_broadcast\")\n",
                "# Fetch the i, j loops of the computation.\n",
                "i, j = sch.get_loops(block)\n",
                "# Split i into two loops.\n",
                "i_outer, i_inner = sch.split(i, factors=[2, 128])  # or `factors=[None, 128]`,\n",
                "                                                   # in which case `None` will be automatically inferred to 2."
            ]
        },
        {
            "cell_type": "markdown",
            "metadata": {},
            "source": [
                "You can print out the function after split via `sch.show()`.\n",
                "You will find out that loop `i` becomes two loops `i_0` and `i_1` with desired lengths in the function."
            ]
        },
        {
            "cell_type": "code",
            "execution_count": 3,
            "metadata": {},
            "outputs": [
                {
                    "data": {
                        "text/html": [
                            "<div class=\"highlight\" style=\"background: \"><pre style=\"line-height: 125%;\"><span></span><span style=\"color: #007979; font-style: italic\"># from tvm.script import ir as I</span>\n",
                            "<span style=\"color: #007979; font-style: italic\"># from tvm.script import tir as T</span>\n",
                            "\n",
                            "<span style=\"color: #AA22FF\">@I</span><span style=\"color: #AA22FF; font-weight: bold\">.</span>ir_module\n",
                            "<span style=\"color: #008000; font-weight: bold\">class</span> <span style=\"color: #0000FF; font-weight: bold\">Module</span>:\n",
                            "    <span style=\"color: #AA22FF\">@T</span><span style=\"color: #AA22FF; font-weight: bold\">.</span>prim_func\n",
                            "    <span style=\"color: #008000; font-weight: bold\">def</span> <span style=\"color: #0000FF\">main</span>(A: T<span style=\"color: #AA22FF; font-weight: bold\">.</span>Buffer((<span style=\"color: #008000\">256</span>,), <span style=\"color: #BA2121\">&quot;float32&quot;</span>), B: T<span style=\"color: #AA22FF; font-weight: bold\">.</span>Buffer((<span style=\"color: #008000\">256</span>,), <span style=\"color: #BA2121\">&quot;float32&quot;</span>)):\n",
                            "        T<span style=\"color: #AA22FF; font-weight: bold\">.</span>func_attr({<span style=\"color: #BA2121\">&quot;global_symbol&quot;</span>: <span style=\"color: #BA2121\">&quot;sum_broadcast&quot;</span>})\n",
                            "        <span style=\"color: #007979; font-style: italic\"># with T.block(&quot;root&quot;):</span>\n",
                            "        <span style=\"color: #008000; font-weight: bold\">for</span> i_0, i_1, k <span style=\"color: #008000; font-weight: bold\">in</span> T<span style=\"color: #AA22FF; font-weight: bold\">.</span>grid(<span style=\"color: #008000\">2</span>, <span style=\"color: #008000\">128</span>, <span style=\"color: #008000\">256</span>):\n",
                            "            <span style=\"color: #008000; font-weight: bold\">with</span> T<span style=\"color: #AA22FF; font-weight: bold\">.</span>block(<span style=\"color: #BA2121\">&quot;sum_broadcast&quot;</span>):\n",
                            "                vi <span style=\"color: #AA22FF; font-weight: bold\">=</span> T<span style=\"color: #AA22FF; font-weight: bold\">.</span>axis<span style=\"color: #AA22FF; font-weight: bold\">.</span>spatial(<span style=\"color: #008000\">256</span>, i_0 <span style=\"color: #AA22FF; font-weight: bold\">*</span> <span style=\"color: #008000\">128</span> <span style=\"color: #AA22FF; font-weight: bold\">+</span> i_1)\n",
                            "                vk <span style=\"color: #AA22FF; font-weight: bold\">=</span> T<span style=\"color: #AA22FF; font-weight: bold\">.</span>axis<span style=\"color: #AA22FF; font-weight: bold\">.</span>reduce(<span style=\"color: #008000\">256</span>, k)\n",
                            "                T<span style=\"color: #AA22FF; font-weight: bold\">.</span>reads(A[vk])\n",
                            "                T<span style=\"color: #AA22FF; font-weight: bold\">.</span>writes(B[vi])\n",
                            "                <span style=\"color: #008000; font-weight: bold\">with</span> T<span style=\"color: #AA22FF; font-weight: bold\">.</span>init():\n",
                            "                    B[vi] <span style=\"color: #AA22FF; font-weight: bold\">=</span> T<span style=\"color: #AA22FF; font-weight: bold\">.</span>float32(<span style=\"color: #008000\">0</span>)\n",
                            "                B[vi] <span style=\"color: #AA22FF; font-weight: bold\">=</span> B[vi] <span style=\"color: #AA22FF; font-weight: bold\">+</span> A[vk]\n",
                            "</pre></div>\n"
                        ],
                        "text/plain": [
                            "<IPython.core.display.HTML object>"
                        ]
                    },
                    "metadata": {},
                    "output_type": "display_data"
                },
                {
                    "data": {
                        "text/html": [
                            "<div class=\"highlight\" style=\"background: \"><pre style=\"line-height: 125%;\"><span></span><span style=\"color: #007979; font-style: italic\"># from tvm import tir</span>\n",
                            "<span style=\"color: #008000; font-weight: bold\">def</span> <span style=\"color: #0000FF\">apply_trace</span>(sch: tir<span style=\"color: #AA22FF; font-weight: bold\">.</span>Schedule) <span style=\"color: #AA22FF; font-weight: bold\">-&gt;</span> <span style=\"color: #008000; font-weight: bold\">None</span>:\n",
                            "  b0 <span style=\"color: #AA22FF; font-weight: bold\">=</span> sch<span style=\"color: #AA22FF; font-weight: bold\">.</span>get_block(name<span style=\"color: #AA22FF; font-weight: bold\">=</span><span style=\"color: #BA2121\">&quot;sum_broadcast&quot;</span>, func_name<span style=\"color: #AA22FF; font-weight: bold\">=</span><span style=\"color: #BA2121\">&quot;main&quot;</span>)\n",
                            "  l1, l2 <span style=\"color: #AA22FF; font-weight: bold\">=</span> sch<span style=\"color: #AA22FF; font-weight: bold\">.</span>get_loops(block<span style=\"color: #AA22FF; font-weight: bold\">=</span>b0)\n",
                            "  l3, l4 <span style=\"color: #AA22FF; font-weight: bold\">=</span> sch<span style=\"color: #AA22FF; font-weight: bold\">.</span>split(loop<span style=\"color: #AA22FF; font-weight: bold\">=</span>l1, factors<span style=\"color: #AA22FF; font-weight: bold\">=</span>[<span style=\"color: #008000\">2</span>, <span style=\"color: #008000\">128</span>], preserve_unit_iters<span style=\"color: #AA22FF; font-weight: bold\">=</span><span style=\"color: #008000; font-weight: bold\">True</span>)\n",
                            "</pre></div>\n"
                        ],
                        "text/plain": [
                            "<IPython.core.display.HTML object>"
                        ]
                    },
                    "metadata": {},
                    "output_type": "display_data"
                }
            ],
            "source": [
                "sch.show()"
            ]
        },
        {
            "cell_type": "markdown",
            "metadata": {},
            "source": [
                "Now we can bind them to `blockIdx.x` and `threadIdx.x` respectively."
            ]
        },
        {
            "cell_type": "code",
            "execution_count": 4,
            "metadata": {},
            "outputs": [
                {
                    "data": {
                        "text/html": [
                            "<div class=\"highlight\" style=\"background: \"><pre style=\"line-height: 125%;\"><span></span><span style=\"color: #007979; font-style: italic\"># from tvm.script import ir as I</span>\n",
                            "<span style=\"color: #007979; font-style: italic\"># from tvm.script import tir as T</span>\n",
                            "\n",
                            "<span style=\"color: #AA22FF\">@I</span><span style=\"color: #AA22FF; font-weight: bold\">.</span>ir_module\n",
                            "<span style=\"color: #008000; font-weight: bold\">class</span> <span style=\"color: #0000FF; font-weight: bold\">Module</span>:\n",
                            "    <span style=\"color: #AA22FF\">@T</span><span style=\"color: #AA22FF; font-weight: bold\">.</span>prim_func\n",
                            "    <span style=\"color: #008000; font-weight: bold\">def</span> <span style=\"color: #0000FF\">main</span>(A: T<span style=\"color: #AA22FF; font-weight: bold\">.</span>Buffer((<span style=\"color: #008000\">256</span>,), <span style=\"color: #BA2121\">&quot;float32&quot;</span>), B: T<span style=\"color: #AA22FF; font-weight: bold\">.</span>Buffer((<span style=\"color: #008000\">256</span>,), <span style=\"color: #BA2121\">&quot;float32&quot;</span>)):\n",
                            "        T<span style=\"color: #AA22FF; font-weight: bold\">.</span>func_attr({<span style=\"color: #BA2121\">&quot;global_symbol&quot;</span>: <span style=\"color: #BA2121\">&quot;sum_broadcast&quot;</span>})\n",
                            "        <span style=\"color: #007979; font-style: italic\"># with T.block(&quot;root&quot;):</span>\n",
                            "        <span style=\"color: #008000; font-weight: bold\">for</span> i_0 <span style=\"color: #008000; font-weight: bold\">in</span> T<span style=\"color: #AA22FF; font-weight: bold\">.</span>thread_binding(<span style=\"color: #008000\">2</span>, thread<span style=\"color: #AA22FF; font-weight: bold\">=</span><span style=\"color: #BA2121\">&quot;blockIdx.x&quot;</span>):\n",
                            "            <span style=\"color: #008000; font-weight: bold\">for</span> i_1 <span style=\"color: #008000; font-weight: bold\">in</span> T<span style=\"color: #AA22FF; font-weight: bold\">.</span>thread_binding(<span style=\"color: #008000\">128</span>, thread<span style=\"color: #AA22FF; font-weight: bold\">=</span><span style=\"color: #BA2121\">&quot;threadIdx.x&quot;</span>):\n",
                            "                <span style=\"color: #008000; font-weight: bold\">for</span> k <span style=\"color: #008000; font-weight: bold\">in</span> range(<span style=\"color: #008000\">256</span>):\n",
                            "                    <span style=\"color: #008000; font-weight: bold\">with</span> T<span style=\"color: #AA22FF; font-weight: bold\">.</span>block(<span style=\"color: #BA2121\">&quot;sum_broadcast&quot;</span>):\n",
                            "                        vi <span style=\"color: #AA22FF; font-weight: bold\">=</span> T<span style=\"color: #AA22FF; font-weight: bold\">.</span>axis<span style=\"color: #AA22FF; font-weight: bold\">.</span>spatial(<span style=\"color: #008000\">256</span>, i_0 <span style=\"color: #AA22FF; font-weight: bold\">*</span> <span style=\"color: #008000\">128</span> <span style=\"color: #AA22FF; font-weight: bold\">+</span> i_1)\n",
                            "                        vk <span style=\"color: #AA22FF; font-weight: bold\">=</span> T<span style=\"color: #AA22FF; font-weight: bold\">.</span>axis<span style=\"color: #AA22FF; font-weight: bold\">.</span>reduce(<span style=\"color: #008000\">256</span>, k)\n",
                            "                        T<span style=\"color: #AA22FF; font-weight: bold\">.</span>reads(A[vk])\n",
                            "                        T<span style=\"color: #AA22FF; font-weight: bold\">.</span>writes(B[vi])\n",
                            "                        <span style=\"color: #008000; font-weight: bold\">with</span> T<span style=\"color: #AA22FF; font-weight: bold\">.</span>init():\n",
                            "                            B[vi] <span style=\"color: #AA22FF; font-weight: bold\">=</span> T<span style=\"color: #AA22FF; font-weight: bold\">.</span>float32(<span style=\"color: #008000\">0</span>)\n",
                            "                        B[vi] <span style=\"color: #AA22FF; font-weight: bold\">=</span> B[vi] <span style=\"color: #AA22FF; font-weight: bold\">+</span> A[vk]\n",
                            "</pre></div>\n"
                        ],
                        "text/plain": [
                            "<IPython.core.display.HTML object>"
                        ]
                    },
                    "metadata": {},
                    "output_type": "display_data"
                },
                {
                    "data": {
                        "text/html": [
                            "<div class=\"highlight\" style=\"background: \"><pre style=\"line-height: 125%;\"><span></span><span style=\"color: #007979; font-style: italic\"># from tvm import tir</span>\n",
                            "<span style=\"color: #008000; font-weight: bold\">def</span> <span style=\"color: #0000FF\">apply_trace</span>(sch: tir<span style=\"color: #AA22FF; font-weight: bold\">.</span>Schedule) <span style=\"color: #AA22FF; font-weight: bold\">-&gt;</span> <span style=\"color: #008000; font-weight: bold\">None</span>:\n",
                            "  b0 <span style=\"color: #AA22FF; font-weight: bold\">=</span> sch<span style=\"color: #AA22FF; font-weight: bold\">.</span>get_block(name<span style=\"color: #AA22FF; font-weight: bold\">=</span><span style=\"color: #BA2121\">&quot;sum_broadcast&quot;</span>, func_name<span style=\"color: #AA22FF; font-weight: bold\">=</span><span style=\"color: #BA2121\">&quot;main&quot;</span>)\n",
                            "  l1, l2 <span style=\"color: #AA22FF; font-weight: bold\">=</span> sch<span style=\"color: #AA22FF; font-weight: bold\">.</span>get_loops(block<span style=\"color: #AA22FF; font-weight: bold\">=</span>b0)\n",
                            "  l3, l4 <span style=\"color: #AA22FF; font-weight: bold\">=</span> sch<span style=\"color: #AA22FF; font-weight: bold\">.</span>split(loop<span style=\"color: #AA22FF; font-weight: bold\">=</span>l1, factors<span style=\"color: #AA22FF; font-weight: bold\">=</span>[<span style=\"color: #008000\">2</span>, <span style=\"color: #008000\">128</span>], preserve_unit_iters<span style=\"color: #AA22FF; font-weight: bold\">=</span><span style=\"color: #008000; font-weight: bold\">True</span>)\n",
                            "  sch<span style=\"color: #AA22FF; font-weight: bold\">.</span>bind(loop<span style=\"color: #AA22FF; font-weight: bold\">=</span>l3, thread_axis<span style=\"color: #AA22FF; font-weight: bold\">=</span><span style=\"color: #BA2121\">&quot;blockIdx.x&quot;</span>)\n",
                            "  sch<span style=\"color: #AA22FF; font-weight: bold\">.</span>bind(loop<span style=\"color: #AA22FF; font-weight: bold\">=</span>l4, thread_axis<span style=\"color: #AA22FF; font-weight: bold\">=</span><span style=\"color: #BA2121\">&quot;threadIdx.x&quot;</span>)\n",
                            "</pre></div>\n"
                        ],
                        "text/plain": [
                            "<IPython.core.display.HTML object>"
                        ]
                    },
                    "metadata": {},
                    "output_type": "display_data"
                }
            ],
            "source": [
                "sch.bind(i_outer, \"blockIdx.x\")\n",
                "sch.bind(i_inner, \"threadIdx.x\")\n",
                "sch.show()"
            ]
        },
        {
            "cell_type": "markdown",
            "metadata": {},
            "source": [
                "After thread binding, this function is already runnable on GPU.\n",
                "We can quickly test this fact and print out the source CUDA code we generate via scheduling."
            ]
        },
        {
            "cell_type": "code",
            "execution_count": 5,
            "metadata": {},
            "outputs": [
                {
                    "name": "stdout",
                    "output_type": "stream",
                    "text": [
                        "Test passed.\n",
                        "CUDA source code:\n",
                        "\n",
                        "#if (((__CUDACC_VER_MAJOR__ == 11) && (__CUDACC_VER_MINOR__ >= 4)) || \\\n",
                        "     (__CUDACC_VER_MAJOR__ > 11))\n",
                        "#define TVM_ENABLE_L2_PREFETCH 1\n",
                        "#else\n",
                        "#define TVM_ENABLE_L2_PREFETCH 0\n",
                        "#endif\n",
                        "\n",
                        "#ifdef _WIN32\n",
                        "  using uint = unsigned int;\n",
                        "  using uchar = unsigned char;\n",
                        "  using ushort = unsigned short;\n",
                        "  using int64_t = long long;\n",
                        "  using uint64_t = unsigned long long;\n",
                        "#else\n",
                        "  #define uint unsigned int\n",
                        "  #define uchar unsigned char\n",
                        "  #define ushort unsigned short\n",
                        "  #define int64_t long long\n",
                        "  #define uint64_t unsigned long long\n",
                        "#endif\n",
                        "extern \"C\" __global__ void __launch_bounds__(128) sum_broadcast_kernel(float* __restrict__ A, float* __restrict__ B);\n",
                        "extern \"C\" __global__ void __launch_bounds__(128) sum_broadcast_kernel(float* __restrict__ A, float* __restrict__ B) {\n",
                        "  for (int k = 0; k < 256; ++k) {\n",
                        "    if (k == 0) {\n",
                        "      B[((((int)blockIdx.x) * 128) + ((int)threadIdx.x))] = 0.000000e+00f;\n",
                        "    }\n",
                        "    B[((((int)blockIdx.x) * 128) + ((int)threadIdx.x))] = (B[((((int)blockIdx.x) * 128) + ((int)threadIdx.x))] + A[k]);\n",
                        "  }\n",
                        "}\n",
                        "\n",
                        "\n"
                    ]
                }
            ],
            "source": [
                "def build_and_test(sch: tir.Schedule) -> None:\n",
                "    import numpy as np\n",
                "\n",
                "    # Build the scheduled function.\n",
                "    f = tvm.build(sch.mod, target=\"cuda\")\n",
                "\n",
                "    # Create the NumPy array for testing.\n",
                "    a_np = np.random.rand(256).astype(\"float32\")\n",
                "    b_np = np.broadcast_to(a_np.sum(keepdims=True), shape=(256,))\n",
                "\n",
                "    # Run the function we scheduled and built.\n",
                "    device = tvm.cuda()\n",
                "    a_tvm = tvm.nd.array(a_np, device=device)\n",
                "    b_tvm = tvm.nd.empty((256,), \"float32\", device=device)\n",
                "    f(a_tvm, b_tvm)\n",
                "\n",
                "    # Validate the result correctness.\n",
                "    np.testing.assert_allclose(b_tvm.numpy(), b_np, atol=1e-5, rtol=1e-5)\n",
                "    print(\"Test passed.\")\n",
                "\n",
                "    # Print out the CUDA source code of the function we scheduled.\n",
                "    print(f\"CUDA source code:\\n{f.imported_modules[0].get_source()}\")\n",
                "\n",
                "\n",
                "# Run building and testing.\n",
                "build_and_test(sch)"
            ]
        },
        {
            "cell_type": "markdown",
            "metadata": {},
            "source": [
                "Though the schedule above can already run the sum + broadcast workload on GPU,\n",
                "let's step further with some more optimization.\n",
                "We can find that each element in `A` is read for 256 times in total,\n",
                "since every position in `B` relies on every element in `A`.\n",
                "This **memory reuse** pattern indicates that we may\n",
                "leverage shared memory to reduce global memory access time:\n",
                "we can first create a shared memory buffer,\n",
                "and let all threads collectively move data from global memory to shared memory.\n",
                "The process of \"all threads collectively moving data\" is named \"cooperative fetching\",\n",
                "which you will need to implement in Task 3.\n",
                "\n",
                "In TensorIR, we can apply `cache_read`, `compute_at` and `bind` in order for this purpose.\n",
                "We first create the shared memory cache stage with `cache_read`."
            ]
        },
        {
            "cell_type": "code",
            "execution_count": 6,
            "metadata": {},
            "outputs": [
                {
                    "data": {
                        "text/html": [
                            "<div class=\"highlight\" style=\"background: \"><pre style=\"line-height: 125%;\"><span></span><span style=\"color: #007979; font-style: italic\"># from tvm.script import ir as I</span>\n",
                            "<span style=\"color: #007979; font-style: italic\"># from tvm.script import tir as T</span>\n",
                            "\n",
                            "<span style=\"color: #AA22FF\">@I</span><span style=\"color: #AA22FF; font-weight: bold\">.</span>ir_module\n",
                            "<span style=\"color: #008000; font-weight: bold\">class</span> <span style=\"color: #0000FF; font-weight: bold\">Module</span>:\n",
                            "    <span style=\"color: #AA22FF\">@T</span><span style=\"color: #AA22FF; font-weight: bold\">.</span>prim_func\n",
                            "    <span style=\"color: #008000; font-weight: bold\">def</span> <span style=\"color: #0000FF\">main</span>(A: T<span style=\"color: #AA22FF; font-weight: bold\">.</span>Buffer((<span style=\"color: #008000\">256</span>,), <span style=\"color: #BA2121\">&quot;float32&quot;</span>), B: T<span style=\"color: #AA22FF; font-weight: bold\">.</span>Buffer((<span style=\"color: #008000\">256</span>,), <span style=\"color: #BA2121\">&quot;float32&quot;</span>)):\n",
                            "        T<span style=\"color: #AA22FF; font-weight: bold\">.</span>func_attr({<span style=\"color: #BA2121\">&quot;global_symbol&quot;</span>: <span style=\"color: #BA2121\">&quot;sum_broadcast&quot;</span>})\n",
                            "        <span style=\"color: #007979; font-style: italic\"># with T.block(&quot;root&quot;):</span>\n",
                            "        A_shared <span style=\"color: #AA22FF; font-weight: bold\">=</span> T<span style=\"color: #AA22FF; font-weight: bold\">.</span>alloc_buffer((<span style=\"color: #008000\">256</span>,), scope<span style=\"color: #AA22FF; font-weight: bold\">=</span><span style=\"color: #BA2121\">&quot;shared&quot;</span>)\n",
                            "        <span style=\"color: #008000; font-weight: bold\">for</span> ax0 <span style=\"color: #008000; font-weight: bold\">in</span> range(<span style=\"color: #008000\">256</span>):\n",
                            "            <span style=\"color: #008000; font-weight: bold\">with</span> T<span style=\"color: #AA22FF; font-weight: bold\">.</span>block(<span style=\"color: #BA2121\">&quot;A_shared&quot;</span>):\n",
                            "                v0 <span style=\"color: #AA22FF; font-weight: bold\">=</span> T<span style=\"color: #AA22FF; font-weight: bold\">.</span>axis<span style=\"color: #AA22FF; font-weight: bold\">.</span>spatial(<span style=\"color: #008000\">256</span>, ax0)\n",
                            "                T<span style=\"color: #AA22FF; font-weight: bold\">.</span>reads(A[v0])\n",
                            "                T<span style=\"color: #AA22FF; font-weight: bold\">.</span>writes(A_shared[v0])\n",
                            "                A_shared[v0] <span style=\"color: #AA22FF; font-weight: bold\">=</span> A[v0]\n",
                            "        <span style=\"color: #008000; font-weight: bold\">for</span> i_0 <span style=\"color: #008000; font-weight: bold\">in</span> T<span style=\"color: #AA22FF; font-weight: bold\">.</span>thread_binding(<span style=\"color: #008000\">2</span>, thread<span style=\"color: #AA22FF; font-weight: bold\">=</span><span style=\"color: #BA2121\">&quot;blockIdx.x&quot;</span>):\n",
                            "            <span style=\"color: #008000; font-weight: bold\">for</span> i_1 <span style=\"color: #008000; font-weight: bold\">in</span> T<span style=\"color: #AA22FF; font-weight: bold\">.</span>thread_binding(<span style=\"color: #008000\">128</span>, thread<span style=\"color: #AA22FF; font-weight: bold\">=</span><span style=\"color: #BA2121\">&quot;threadIdx.x&quot;</span>):\n",
                            "                <span style=\"color: #008000; font-weight: bold\">for</span> k <span style=\"color: #008000; font-weight: bold\">in</span> range(<span style=\"color: #008000\">256</span>):\n",
                            "                    <span style=\"color: #008000; font-weight: bold\">with</span> T<span style=\"color: #AA22FF; font-weight: bold\">.</span>block(<span style=\"color: #BA2121\">&quot;sum_broadcast&quot;</span>):\n",
                            "                        vi <span style=\"color: #AA22FF; font-weight: bold\">=</span> T<span style=\"color: #AA22FF; font-weight: bold\">.</span>axis<span style=\"color: #AA22FF; font-weight: bold\">.</span>spatial(<span style=\"color: #008000\">256</span>, i_0 <span style=\"color: #AA22FF; font-weight: bold\">*</span> <span style=\"color: #008000\">128</span> <span style=\"color: #AA22FF; font-weight: bold\">+</span> i_1)\n",
                            "                        vk <span style=\"color: #AA22FF; font-weight: bold\">=</span> T<span style=\"color: #AA22FF; font-weight: bold\">.</span>axis<span style=\"color: #AA22FF; font-weight: bold\">.</span>reduce(<span style=\"color: #008000\">256</span>, k)\n",
                            "                        T<span style=\"color: #AA22FF; font-weight: bold\">.</span>reads(A_shared[vk])\n",
                            "                        T<span style=\"color: #AA22FF; font-weight: bold\">.</span>writes(B[vi])\n",
                            "                        <span style=\"color: #008000; font-weight: bold\">with</span> T<span style=\"color: #AA22FF; font-weight: bold\">.</span>init():\n",
                            "                            B[vi] <span style=\"color: #AA22FF; font-weight: bold\">=</span> T<span style=\"color: #AA22FF; font-weight: bold\">.</span>float32(<span style=\"color: #008000\">0</span>)\n",
                            "                        B[vi] <span style=\"color: #AA22FF; font-weight: bold\">=</span> B[vi] <span style=\"color: #AA22FF; font-weight: bold\">+</span> A_shared[vk]\n",
                            "</pre></div>\n"
                        ],
                        "text/plain": [
                            "<IPython.core.display.HTML object>"
                        ]
                    },
                    "metadata": {},
                    "output_type": "display_data"
                },
                {
                    "data": {
                        "text/html": [
                            "<div class=\"highlight\" style=\"background: \"><pre style=\"line-height: 125%;\"><span></span><span style=\"color: #007979; font-style: italic\"># from tvm import tir</span>\n",
                            "<span style=\"color: #008000; font-weight: bold\">def</span> <span style=\"color: #0000FF\">apply_trace</span>(sch: tir<span style=\"color: #AA22FF; font-weight: bold\">.</span>Schedule) <span style=\"color: #AA22FF; font-weight: bold\">-&gt;</span> <span style=\"color: #008000; font-weight: bold\">None</span>:\n",
                            "  b0 <span style=\"color: #AA22FF; font-weight: bold\">=</span> sch<span style=\"color: #AA22FF; font-weight: bold\">.</span>get_block(name<span style=\"color: #AA22FF; font-weight: bold\">=</span><span style=\"color: #BA2121\">&quot;sum_broadcast&quot;</span>, func_name<span style=\"color: #AA22FF; font-weight: bold\">=</span><span style=\"color: #BA2121\">&quot;main&quot;</span>)\n",
                            "  l1, l2 <span style=\"color: #AA22FF; font-weight: bold\">=</span> sch<span style=\"color: #AA22FF; font-weight: bold\">.</span>get_loops(block<span style=\"color: #AA22FF; font-weight: bold\">=</span>b0)\n",
                            "  l3, l4 <span style=\"color: #AA22FF; font-weight: bold\">=</span> sch<span style=\"color: #AA22FF; font-weight: bold\">.</span>split(loop<span style=\"color: #AA22FF; font-weight: bold\">=</span>l1, factors<span style=\"color: #AA22FF; font-weight: bold\">=</span>[<span style=\"color: #008000\">2</span>, <span style=\"color: #008000\">128</span>], preserve_unit_iters<span style=\"color: #AA22FF; font-weight: bold\">=</span><span style=\"color: #008000; font-weight: bold\">True</span>)\n",
                            "  sch<span style=\"color: #AA22FF; font-weight: bold\">.</span>bind(loop<span style=\"color: #AA22FF; font-weight: bold\">=</span>l3, thread_axis<span style=\"color: #AA22FF; font-weight: bold\">=</span><span style=\"color: #BA2121\">&quot;blockIdx.x&quot;</span>)\n",
                            "  sch<span style=\"color: #AA22FF; font-weight: bold\">.</span>bind(loop<span style=\"color: #AA22FF; font-weight: bold\">=</span>l4, thread_axis<span style=\"color: #AA22FF; font-weight: bold\">=</span><span style=\"color: #BA2121\">&quot;threadIdx.x&quot;</span>)\n",
                            "  b5 <span style=\"color: #AA22FF; font-weight: bold\">=</span> sch<span style=\"color: #AA22FF; font-weight: bold\">.</span>cache_read(block<span style=\"color: #AA22FF; font-weight: bold\">=</span>b0, read_buffer_index<span style=\"color: #AA22FF; font-weight: bold\">=</span><span style=\"color: #008000\">0</span>, storage_scope<span style=\"color: #AA22FF; font-weight: bold\">=</span><span style=\"color: #BA2121\">&quot;shared&quot;</span>)\n",
                            "</pre></div>\n"
                        ],
                        "text/plain": [
                            "<IPython.core.display.HTML object>"
                        ]
                    },
                    "metadata": {},
                    "output_type": "display_data"
                }
            ],
            "source": [
                "# `A` is the first buffer in `T.reads` of the block.\n",
                "# Therefore it has \"read_buffer_index\" being 0.\n",
                "A_shared = sch.cache_read(block, read_buffer_index=0, storage_scope=\"shared\")\n",
                "sch.show()"
            ]
        },
        {
            "cell_type": "markdown",
            "metadata": {},
            "source": [
                "`cache_read` generates the cache stage in the outermost scope\n",
                "(outside the loop `i_0` of the main block).\n",
                "We would like to move it into the loop `i_0` and `i_1`,\n",
                "so that the shared memory read stage is done within the thread block\n",
                "we scheduled before.\n",
                "For this purpose, we use `compute_at`, which, as it names suggests,\n",
                "computes a certain block at a certain location.\n",
                "In our example, we want to do the shared memory read right inside `i_1` \n",
                "(because we need to move it inside a thread block) and outside `k`\n",
                "(since the summation already starts if we mote it inside `k`).\n",
                "We can do this by"
            ]
        },
        {
            "cell_type": "code",
            "execution_count": 7,
            "metadata": {},
            "outputs": [
                {
                    "data": {
                        "text/html": [
                            "<div class=\"highlight\" style=\"background: \"><pre style=\"line-height: 125%;\"><span></span><span style=\"color: #007979; font-style: italic\"># from tvm.script import ir as I</span>\n",
                            "<span style=\"color: #007979; font-style: italic\"># from tvm.script import tir as T</span>\n",
                            "\n",
                            "<span style=\"color: #AA22FF\">@I</span><span style=\"color: #AA22FF; font-weight: bold\">.</span>ir_module\n",
                            "<span style=\"color: #008000; font-weight: bold\">class</span> <span style=\"color: #0000FF; font-weight: bold\">Module</span>:\n",
                            "    <span style=\"color: #AA22FF\">@T</span><span style=\"color: #AA22FF; font-weight: bold\">.</span>prim_func\n",
                            "    <span style=\"color: #008000; font-weight: bold\">def</span> <span style=\"color: #0000FF\">main</span>(A: T<span style=\"color: #AA22FF; font-weight: bold\">.</span>Buffer((<span style=\"color: #008000\">256</span>,), <span style=\"color: #BA2121\">&quot;float32&quot;</span>), B: T<span style=\"color: #AA22FF; font-weight: bold\">.</span>Buffer((<span style=\"color: #008000\">256</span>,), <span style=\"color: #BA2121\">&quot;float32&quot;</span>)):\n",
                            "        T<span style=\"color: #AA22FF; font-weight: bold\">.</span>func_attr({<span style=\"color: #BA2121\">&quot;global_symbol&quot;</span>: <span style=\"color: #BA2121\">&quot;sum_broadcast&quot;</span>})\n",
                            "        <span style=\"color: #007979; font-style: italic\"># with T.block(&quot;root&quot;):</span>\n",
                            "        A_shared <span style=\"color: #AA22FF; font-weight: bold\">=</span> T<span style=\"color: #AA22FF; font-weight: bold\">.</span>alloc_buffer((<span style=\"color: #008000\">256</span>,), scope<span style=\"color: #AA22FF; font-weight: bold\">=</span><span style=\"color: #BA2121\">&quot;shared&quot;</span>)\n",
                            "        <span style=\"color: #008000; font-weight: bold\">for</span> i_0 <span style=\"color: #008000; font-weight: bold\">in</span> T<span style=\"color: #AA22FF; font-weight: bold\">.</span>thread_binding(<span style=\"color: #008000\">2</span>, thread<span style=\"color: #AA22FF; font-weight: bold\">=</span><span style=\"color: #BA2121\">&quot;blockIdx.x&quot;</span>):\n",
                            "            <span style=\"color: #008000; font-weight: bold\">for</span> i_1 <span style=\"color: #008000; font-weight: bold\">in</span> T<span style=\"color: #AA22FF; font-weight: bold\">.</span>thread_binding(<span style=\"color: #008000\">128</span>, thread<span style=\"color: #AA22FF; font-weight: bold\">=</span><span style=\"color: #BA2121\">&quot;threadIdx.x&quot;</span>):\n",
                            "                <span style=\"color: #008000; font-weight: bold\">for</span> ax0 <span style=\"color: #008000; font-weight: bold\">in</span> range(<span style=\"color: #008000\">256</span>):\n",
                            "                    <span style=\"color: #008000; font-weight: bold\">with</span> T<span style=\"color: #AA22FF; font-weight: bold\">.</span>block(<span style=\"color: #BA2121\">&quot;A_shared&quot;</span>):\n",
                            "                        v0 <span style=\"color: #AA22FF; font-weight: bold\">=</span> T<span style=\"color: #AA22FF; font-weight: bold\">.</span>axis<span style=\"color: #AA22FF; font-weight: bold\">.</span>spatial(<span style=\"color: #008000\">256</span>, ax0)\n",
                            "                        T<span style=\"color: #AA22FF; font-weight: bold\">.</span>reads(A[v0])\n",
                            "                        T<span style=\"color: #AA22FF; font-weight: bold\">.</span>writes(A_shared[v0])\n",
                            "                        A_shared[v0] <span style=\"color: #AA22FF; font-weight: bold\">=</span> A[v0]\n",
                            "                <span style=\"color: #008000; font-weight: bold\">for</span> k <span style=\"color: #008000; font-weight: bold\">in</span> range(<span style=\"color: #008000\">256</span>):\n",
                            "                    <span style=\"color: #008000; font-weight: bold\">with</span> T<span style=\"color: #AA22FF; font-weight: bold\">.</span>block(<span style=\"color: #BA2121\">&quot;sum_broadcast&quot;</span>):\n",
                            "                        vi <span style=\"color: #AA22FF; font-weight: bold\">=</span> T<span style=\"color: #AA22FF; font-weight: bold\">.</span>axis<span style=\"color: #AA22FF; font-weight: bold\">.</span>spatial(<span style=\"color: #008000\">256</span>, i_0 <span style=\"color: #AA22FF; font-weight: bold\">*</span> <span style=\"color: #008000\">128</span> <span style=\"color: #AA22FF; font-weight: bold\">+</span> i_1)\n",
                            "                        vk <span style=\"color: #AA22FF; font-weight: bold\">=</span> T<span style=\"color: #AA22FF; font-weight: bold\">.</span>axis<span style=\"color: #AA22FF; font-weight: bold\">.</span>reduce(<span style=\"color: #008000\">256</span>, k)\n",
                            "                        T<span style=\"color: #AA22FF; font-weight: bold\">.</span>reads(A_shared[vk])\n",
                            "                        T<span style=\"color: #AA22FF; font-weight: bold\">.</span>writes(B[vi])\n",
                            "                        <span style=\"color: #008000; font-weight: bold\">with</span> T<span style=\"color: #AA22FF; font-weight: bold\">.</span>init():\n",
                            "                            B[vi] <span style=\"color: #AA22FF; font-weight: bold\">=</span> T<span style=\"color: #AA22FF; font-weight: bold\">.</span>float32(<span style=\"color: #008000\">0</span>)\n",
                            "                        B[vi] <span style=\"color: #AA22FF; font-weight: bold\">=</span> B[vi] <span style=\"color: #AA22FF; font-weight: bold\">+</span> A_shared[vk]\n",
                            "</pre></div>\n"
                        ],
                        "text/plain": [
                            "<IPython.core.display.HTML object>"
                        ]
                    },
                    "metadata": {},
                    "output_type": "display_data"
                },
                {
                    "data": {
                        "text/html": [
                            "<div class=\"highlight\" style=\"background: \"><pre style=\"line-height: 125%;\"><span></span><span style=\"color: #007979; font-style: italic\"># from tvm import tir</span>\n",
                            "<span style=\"color: #008000; font-weight: bold\">def</span> <span style=\"color: #0000FF\">apply_trace</span>(sch: tir<span style=\"color: #AA22FF; font-weight: bold\">.</span>Schedule) <span style=\"color: #AA22FF; font-weight: bold\">-&gt;</span> <span style=\"color: #008000; font-weight: bold\">None</span>:\n",
                            "  b0 <span style=\"color: #AA22FF; font-weight: bold\">=</span> sch<span style=\"color: #AA22FF; font-weight: bold\">.</span>get_block(name<span style=\"color: #AA22FF; font-weight: bold\">=</span><span style=\"color: #BA2121\">&quot;sum_broadcast&quot;</span>, func_name<span style=\"color: #AA22FF; font-weight: bold\">=</span><span style=\"color: #BA2121\">&quot;main&quot;</span>)\n",
                            "  l1, l2 <span style=\"color: #AA22FF; font-weight: bold\">=</span> sch<span style=\"color: #AA22FF; font-weight: bold\">.</span>get_loops(block<span style=\"color: #AA22FF; font-weight: bold\">=</span>b0)\n",
                            "  l3, l4 <span style=\"color: #AA22FF; font-weight: bold\">=</span> sch<span style=\"color: #AA22FF; font-weight: bold\">.</span>split(loop<span style=\"color: #AA22FF; font-weight: bold\">=</span>l1, factors<span style=\"color: #AA22FF; font-weight: bold\">=</span>[<span style=\"color: #008000\">2</span>, <span style=\"color: #008000\">128</span>], preserve_unit_iters<span style=\"color: #AA22FF; font-weight: bold\">=</span><span style=\"color: #008000; font-weight: bold\">True</span>)\n",
                            "  sch<span style=\"color: #AA22FF; font-weight: bold\">.</span>bind(loop<span style=\"color: #AA22FF; font-weight: bold\">=</span>l3, thread_axis<span style=\"color: #AA22FF; font-weight: bold\">=</span><span style=\"color: #BA2121\">&quot;blockIdx.x&quot;</span>)\n",
                            "  sch<span style=\"color: #AA22FF; font-weight: bold\">.</span>bind(loop<span style=\"color: #AA22FF; font-weight: bold\">=</span>l4, thread_axis<span style=\"color: #AA22FF; font-weight: bold\">=</span><span style=\"color: #BA2121\">&quot;threadIdx.x&quot;</span>)\n",
                            "  b5 <span style=\"color: #AA22FF; font-weight: bold\">=</span> sch<span style=\"color: #AA22FF; font-weight: bold\">.</span>cache_read(block<span style=\"color: #AA22FF; font-weight: bold\">=</span>b0, read_buffer_index<span style=\"color: #AA22FF; font-weight: bold\">=</span><span style=\"color: #008000\">0</span>, storage_scope<span style=\"color: #AA22FF; font-weight: bold\">=</span><span style=\"color: #BA2121\">&quot;shared&quot;</span>)\n",
                            "  sch<span style=\"color: #AA22FF; font-weight: bold\">.</span>compute_at(block<span style=\"color: #AA22FF; font-weight: bold\">=</span>b5, loop<span style=\"color: #AA22FF; font-weight: bold\">=</span>l4, preserve_unit_loops<span style=\"color: #AA22FF; font-weight: bold\">=</span><span style=\"color: #008000; font-weight: bold\">False</span>, index<span style=\"color: #AA22FF; font-weight: bold\">=-</span><span style=\"color: #008000\">1</span>)\n",
                            "</pre></div>\n"
                        ],
                        "text/plain": [
                            "<IPython.core.display.HTML object>"
                        ]
                    },
                    "metadata": {},
                    "output_type": "display_data"
                }
            ],
            "source": [
                "sch.compute_at(A_shared, i_inner)\n",
                "sch.show()"
            ]
        },
        {
            "cell_type": "markdown",
            "metadata": {},
            "source": [
                "By looking at the function printed above, we find that\n",
                "every thread (every possible value of `i_1`) still iterates over the the entire loop `ax0`,\n",
                "which means every thread will perform a full copy of `A` into shared memory.\n",
                "So now the remaining job is the cooperative fetching.\n",
                "In our example, because the data being read has 256 elements and we only have 128 threads,\n",
                "each thread needs to copy two elements from global memory to shared memory.\n",
                "To this end, we can split the loop `ax0` into two loops,\n",
                "with the outer loop has length 2 and the inner loop has length 128.\n",
                "Then we bind the inner loop to `threadIdx.x`,\n",
                "in order to let all threads cooperatively copy the data according to their thread ids."
            ]
        },
        {
            "cell_type": "code",
            "execution_count": 8,
            "metadata": {},
            "outputs": [
                {
                    "data": {
                        "text/html": [
                            "<div class=\"highlight\" style=\"background: \"><pre style=\"line-height: 125%;\"><span></span><span style=\"color: #007979; font-style: italic\"># from tvm.script import ir as I</span>\n",
                            "<span style=\"color: #007979; font-style: italic\"># from tvm.script import tir as T</span>\n",
                            "\n",
                            "<span style=\"color: #AA22FF\">@I</span><span style=\"color: #AA22FF; font-weight: bold\">.</span>ir_module\n",
                            "<span style=\"color: #008000; font-weight: bold\">class</span> <span style=\"color: #0000FF; font-weight: bold\">Module</span>:\n",
                            "    <span style=\"color: #AA22FF\">@T</span><span style=\"color: #AA22FF; font-weight: bold\">.</span>prim_func\n",
                            "    <span style=\"color: #008000; font-weight: bold\">def</span> <span style=\"color: #0000FF\">main</span>(A: T<span style=\"color: #AA22FF; font-weight: bold\">.</span>Buffer((<span style=\"color: #008000\">256</span>,), <span style=\"color: #BA2121\">&quot;float32&quot;</span>), B: T<span style=\"color: #AA22FF; font-weight: bold\">.</span>Buffer((<span style=\"color: #008000\">256</span>,), <span style=\"color: #BA2121\">&quot;float32&quot;</span>)):\n",
                            "        T<span style=\"color: #AA22FF; font-weight: bold\">.</span>func_attr({<span style=\"color: #BA2121\">&quot;global_symbol&quot;</span>: <span style=\"color: #BA2121\">&quot;sum_broadcast&quot;</span>})\n",
                            "        <span style=\"color: #007979; font-style: italic\"># with T.block(&quot;root&quot;):</span>\n",
                            "        A_shared <span style=\"color: #AA22FF; font-weight: bold\">=</span> T<span style=\"color: #AA22FF; font-weight: bold\">.</span>alloc_buffer((<span style=\"color: #008000\">256</span>,), scope<span style=\"color: #AA22FF; font-weight: bold\">=</span><span style=\"color: #BA2121\">&quot;shared&quot;</span>)\n",
                            "        <span style=\"color: #008000; font-weight: bold\">for</span> i_0 <span style=\"color: #008000; font-weight: bold\">in</span> T<span style=\"color: #AA22FF; font-weight: bold\">.</span>thread_binding(<span style=\"color: #008000\">2</span>, thread<span style=\"color: #AA22FF; font-weight: bold\">=</span><span style=\"color: #BA2121\">&quot;blockIdx.x&quot;</span>):\n",
                            "            <span style=\"color: #008000; font-weight: bold\">for</span> i_1 <span style=\"color: #008000; font-weight: bold\">in</span> T<span style=\"color: #AA22FF; font-weight: bold\">.</span>thread_binding(<span style=\"color: #008000\">128</span>, thread<span style=\"color: #AA22FF; font-weight: bold\">=</span><span style=\"color: #BA2121\">&quot;threadIdx.x&quot;</span>):\n",
                            "                <span style=\"color: #008000; font-weight: bold\">for</span> ax0_0 <span style=\"color: #008000; font-weight: bold\">in</span> range(<span style=\"color: #008000\">2</span>):\n",
                            "                    <span style=\"color: #008000; font-weight: bold\">for</span> ax0_1 <span style=\"color: #008000; font-weight: bold\">in</span> T<span style=\"color: #AA22FF; font-weight: bold\">.</span>thread_binding(<span style=\"color: #008000\">128</span>, thread<span style=\"color: #AA22FF; font-weight: bold\">=</span><span style=\"color: #BA2121\">&quot;threadIdx.x&quot;</span>):\n",
                            "                        <span style=\"color: #008000; font-weight: bold\">with</span> T<span style=\"color: #AA22FF; font-weight: bold\">.</span>block(<span style=\"color: #BA2121\">&quot;A_shared&quot;</span>):\n",
                            "                            v0 <span style=\"color: #AA22FF; font-weight: bold\">=</span> T<span style=\"color: #AA22FF; font-weight: bold\">.</span>axis<span style=\"color: #AA22FF; font-weight: bold\">.</span>spatial(<span style=\"color: #008000\">256</span>, ax0_0 <span style=\"color: #AA22FF; font-weight: bold\">*</span> <span style=\"color: #008000\">128</span> <span style=\"color: #AA22FF; font-weight: bold\">+</span> ax0_1)\n",
                            "                            T<span style=\"color: #AA22FF; font-weight: bold\">.</span>reads(A[v0])\n",
                            "                            T<span style=\"color: #AA22FF; font-weight: bold\">.</span>writes(A_shared[v0])\n",
                            "                            A_shared[v0] <span style=\"color: #AA22FF; font-weight: bold\">=</span> A[v0]\n",
                            "                <span style=\"color: #008000; font-weight: bold\">for</span> k <span style=\"color: #008000; font-weight: bold\">in</span> range(<span style=\"color: #008000\">256</span>):\n",
                            "                    <span style=\"color: #008000; font-weight: bold\">with</span> T<span style=\"color: #AA22FF; font-weight: bold\">.</span>block(<span style=\"color: #BA2121\">&quot;sum_broadcast&quot;</span>):\n",
                            "                        vi <span style=\"color: #AA22FF; font-weight: bold\">=</span> T<span style=\"color: #AA22FF; font-weight: bold\">.</span>axis<span style=\"color: #AA22FF; font-weight: bold\">.</span>spatial(<span style=\"color: #008000\">256</span>, i_0 <span style=\"color: #AA22FF; font-weight: bold\">*</span> <span style=\"color: #008000\">128</span> <span style=\"color: #AA22FF; font-weight: bold\">+</span> i_1)\n",
                            "                        vk <span style=\"color: #AA22FF; font-weight: bold\">=</span> T<span style=\"color: #AA22FF; font-weight: bold\">.</span>axis<span style=\"color: #AA22FF; font-weight: bold\">.</span>reduce(<span style=\"color: #008000\">256</span>, k)\n",
                            "                        T<span style=\"color: #AA22FF; font-weight: bold\">.</span>reads(A_shared[vk])\n",
                            "                        T<span style=\"color: #AA22FF; font-weight: bold\">.</span>writes(B[vi])\n",
                            "                        <span style=\"color: #008000; font-weight: bold\">with</span> T<span style=\"color: #AA22FF; font-weight: bold\">.</span>init():\n",
                            "                            B[vi] <span style=\"color: #AA22FF; font-weight: bold\">=</span> T<span style=\"color: #AA22FF; font-weight: bold\">.</span>float32(<span style=\"color: #008000\">0</span>)\n",
                            "                        B[vi] <span style=\"color: #AA22FF; font-weight: bold\">=</span> B[vi] <span style=\"color: #AA22FF; font-weight: bold\">+</span> A_shared[vk]\n",
                            "</pre></div>\n"
                        ],
                        "text/plain": [
                            "<IPython.core.display.HTML object>"
                        ]
                    },
                    "metadata": {},
                    "output_type": "display_data"
                },
                {
                    "data": {
                        "text/html": [
                            "<div class=\"highlight\" style=\"background: \"><pre style=\"line-height: 125%;\"><span></span><span style=\"color: #007979; font-style: italic\"># from tvm import tir</span>\n",
                            "<span style=\"color: #008000; font-weight: bold\">def</span> <span style=\"color: #0000FF\">apply_trace</span>(sch: tir<span style=\"color: #AA22FF; font-weight: bold\">.</span>Schedule) <span style=\"color: #AA22FF; font-weight: bold\">-&gt;</span> <span style=\"color: #008000; font-weight: bold\">None</span>:\n",
                            "  b0 <span style=\"color: #AA22FF; font-weight: bold\">=</span> sch<span style=\"color: #AA22FF; font-weight: bold\">.</span>get_block(name<span style=\"color: #AA22FF; font-weight: bold\">=</span><span style=\"color: #BA2121\">&quot;sum_broadcast&quot;</span>, func_name<span style=\"color: #AA22FF; font-weight: bold\">=</span><span style=\"color: #BA2121\">&quot;main&quot;</span>)\n",
                            "  l1, l2 <span style=\"color: #AA22FF; font-weight: bold\">=</span> sch<span style=\"color: #AA22FF; font-weight: bold\">.</span>get_loops(block<span style=\"color: #AA22FF; font-weight: bold\">=</span>b0)\n",
                            "  l3, l4 <span style=\"color: #AA22FF; font-weight: bold\">=</span> sch<span style=\"color: #AA22FF; font-weight: bold\">.</span>split(loop<span style=\"color: #AA22FF; font-weight: bold\">=</span>l1, factors<span style=\"color: #AA22FF; font-weight: bold\">=</span>[<span style=\"color: #008000\">2</span>, <span style=\"color: #008000\">128</span>], preserve_unit_iters<span style=\"color: #AA22FF; font-weight: bold\">=</span><span style=\"color: #008000; font-weight: bold\">True</span>)\n",
                            "  sch<span style=\"color: #AA22FF; font-weight: bold\">.</span>bind(loop<span style=\"color: #AA22FF; font-weight: bold\">=</span>l3, thread_axis<span style=\"color: #AA22FF; font-weight: bold\">=</span><span style=\"color: #BA2121\">&quot;blockIdx.x&quot;</span>)\n",
                            "  sch<span style=\"color: #AA22FF; font-weight: bold\">.</span>bind(loop<span style=\"color: #AA22FF; font-weight: bold\">=</span>l4, thread_axis<span style=\"color: #AA22FF; font-weight: bold\">=</span><span style=\"color: #BA2121\">&quot;threadIdx.x&quot;</span>)\n",
                            "  b5 <span style=\"color: #AA22FF; font-weight: bold\">=</span> sch<span style=\"color: #AA22FF; font-weight: bold\">.</span>cache_read(block<span style=\"color: #AA22FF; font-weight: bold\">=</span>b0, read_buffer_index<span style=\"color: #AA22FF; font-weight: bold\">=</span><span style=\"color: #008000\">0</span>, storage_scope<span style=\"color: #AA22FF; font-weight: bold\">=</span><span style=\"color: #BA2121\">&quot;shared&quot;</span>)\n",
                            "  sch<span style=\"color: #AA22FF; font-weight: bold\">.</span>compute_at(block<span style=\"color: #AA22FF; font-weight: bold\">=</span>b5, loop<span style=\"color: #AA22FF; font-weight: bold\">=</span>l4, preserve_unit_loops<span style=\"color: #AA22FF; font-weight: bold\">=</span><span style=\"color: #008000; font-weight: bold\">False</span>, index<span style=\"color: #AA22FF; font-weight: bold\">=-</span><span style=\"color: #008000\">1</span>)\n",
                            "  l6, l7, l8 <span style=\"color: #AA22FF; font-weight: bold\">=</span> sch<span style=\"color: #AA22FF; font-weight: bold\">.</span>get_loops(block<span style=\"color: #AA22FF; font-weight: bold\">=</span>b5)\n",
                            "  l9, l10 <span style=\"color: #AA22FF; font-weight: bold\">=</span> sch<span style=\"color: #AA22FF; font-weight: bold\">.</span>split(loop<span style=\"color: #AA22FF; font-weight: bold\">=</span>l8, factors<span style=\"color: #AA22FF; font-weight: bold\">=</span>[<span style=\"color: #008000; font-weight: bold\">None</span>, <span style=\"color: #008000\">128</span>], preserve_unit_iters<span style=\"color: #AA22FF; font-weight: bold\">=</span><span style=\"color: #008000; font-weight: bold\">True</span>)\n",
                            "  sch<span style=\"color: #AA22FF; font-weight: bold\">.</span>bind(loop<span style=\"color: #AA22FF; font-weight: bold\">=</span>l10, thread_axis<span style=\"color: #AA22FF; font-weight: bold\">=</span><span style=\"color: #BA2121\">&quot;threadIdx.x&quot;</span>)\n",
                            "</pre></div>\n"
                        ],
                        "text/plain": [
                            "<IPython.core.display.HTML object>"
                        ]
                    },
                    "metadata": {},
                    "output_type": "display_data"
                }
            ],
            "source": [
                "ax0 = sch.get_loops(A_shared)[-1]\n",
                "_, ax0_inner = sch.split(ax0, factors=[None, 128])\n",
                "sch.bind(ax0_inner, \"threadIdx.x\")\n",
                "sch.show()"
            ]
        },
        {
            "cell_type": "markdown",
            "metadata": {},
            "source": [
                "Now we are all good after cooperative fetching!\n",
                "Let's run the tests again and print out the CUDA source code after scheduling.\n",
                "In the CUDA source code, you can find that each thread reads one element\n",
                "from global memory into shared memory."
            ]
        },
        {
            "cell_type": "code",
            "execution_count": 9,
            "metadata": {},
            "outputs": [
                {
                    "name": "stdout",
                    "output_type": "stream",
                    "text": [
                        "Test passed.\n",
                        "CUDA source code:\n",
                        "\n",
                        "#if (((__CUDACC_VER_MAJOR__ == 11) && (__CUDACC_VER_MINOR__ >= 4)) || \\\n",
                        "     (__CUDACC_VER_MAJOR__ > 11))\n",
                        "#define TVM_ENABLE_L2_PREFETCH 1\n",
                        "#else\n",
                        "#define TVM_ENABLE_L2_PREFETCH 0\n",
                        "#endif\n",
                        "\n",
                        "#ifdef _WIN32\n",
                        "  using uint = unsigned int;\n",
                        "  using uchar = unsigned char;\n",
                        "  using ushort = unsigned short;\n",
                        "  using int64_t = long long;\n",
                        "  using uint64_t = unsigned long long;\n",
                        "#else\n",
                        "  #define uint unsigned int\n",
                        "  #define uchar unsigned char\n",
                        "  #define ushort unsigned short\n",
                        "  #define int64_t long long\n",
                        "  #define uint64_t unsigned long long\n",
                        "#endif\n",
                        "extern \"C\" __global__ void __launch_bounds__(128) sum_broadcast_kernel(float* __restrict__ A, float* __restrict__ B);\n",
                        "extern \"C\" __global__ void __launch_bounds__(128) sum_broadcast_kernel(float* __restrict__ A, float* __restrict__ B) {\n",
                        "  __shared__ float A_shared[256];\n",
                        "  for (int ax0_0 = 0; ax0_0 < 2; ++ax0_0) {\n",
                        "    A_shared[((ax0_0 * 128) + ((int)threadIdx.x))] = A[((ax0_0 * 128) + ((int)threadIdx.x))];\n",
                        "  }\n",
                        "  __syncthreads();\n",
                        "  for (int k = 0; k < 256; ++k) {\n",
                        "    if (k == 0) {\n",
                        "      B[((((int)blockIdx.x) * 128) + ((int)threadIdx.x))] = 0.000000e+00f;\n",
                        "    }\n",
                        "    B[((((int)blockIdx.x) * 128) + ((int)threadIdx.x))] = (B[((((int)blockIdx.x) * 128) + ((int)threadIdx.x))] + A_shared[k]);\n",
                        "  }\n",
                        "}\n",
                        "\n",
                        "\n"
                    ]
                }
            ],
            "source": [
                "build_and_test(sch)"
            ]
        }
    ],
    "metadata": {
        "kernelspec": {
            "display_name": "python310",
            "language": "python",
            "name": "python3"
        },
        "language_info": {
            "codemirror_mode": {
                "name": "ipython",
                "version": 3
            },
            "file_extension": ".py",
            "mimetype": "text/x-python",
            "name": "python",
            "nbconvert_exporter": "python",
            "pygments_lexer": "ipython3",
            "version": "3.10.8"
        }
    },
    "nbformat": 4,
    "nbformat_minor": 2
}
